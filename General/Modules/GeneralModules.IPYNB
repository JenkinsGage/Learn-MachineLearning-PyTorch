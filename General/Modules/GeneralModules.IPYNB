{
 "cells": [
  {
   "cell_type": "code",
   "execution_count": null,
   "metadata": {},
   "outputs": [],
   "source": [
    "import torch\n",
    "import torch.nn as nn"
   ]
  },
  {
   "cell_type": "code",
   "execution_count": null,
   "metadata": {},
   "outputs": [],
   "source": [
    "class ResMLP(nn.Module):\n",
    "    def __init__(self, in_dim, hidden_dim, out_dim, dropout=0.1):\n",
    "        super(ResMLP, self).__init__()\n",
    "        self.linear0 = nn.Linear(in_dim, out_dim)\n",
    "\n",
    "        self.linear1 = nn.Linear(in_dim, hidden_dim)\n",
    "        self.relu = nn.ReLU()\n",
    "        self.linear2 = nn.Linear(hidden_dim, out_dim)\n",
    "        self.dropout = nn.Dropout(dropout)\n",
    "\n",
    "        self.norm = nn.LayerNorm(out_dim)\n",
    "\n",
    "    def forward(self, x):\n",
    "        b1 = self.linear1(x)\n",
    "        b1 = self.relu(b1)\n",
    "        b1 = self.linear2(b1)\n",
    "        b1 = self.dropout(b1)\n",
    "        b2 = self.linear0(x)\n",
    "        y = b1 + b2\n",
    "        y = self.norm(y)\n",
    "        return y\n",
    "    \n",
    "    \n",
    "layers = [ResMLP(64, 64, 64) if _>0 else ResMLP(5, 64, 64) for _ in range(2)]\n",
    "net = nn.Sequential(*layers)\n",
    "print(net)\n",
    "x = torch.randn(12, 8, 5)\n",
    "print(net(x))"
   ]
  }
 ],
 "metadata": {
  "kernelspec": {
   "display_name": "Python 3",
   "language": "python",
   "name": "python3"
  },
  "language_info": {
   "codemirror_mode": {
    "name": "ipython",
    "version": 3
   },
   "file_extension": ".py",
   "mimetype": "text/x-python",
   "name": "python",
   "nbconvert_exporter": "python",
   "pygments_lexer": "ipython3",
   "version": "3.9.16"
  },
  "orig_nbformat": 4
 },
 "nbformat": 4,
 "nbformat_minor": 2
}
